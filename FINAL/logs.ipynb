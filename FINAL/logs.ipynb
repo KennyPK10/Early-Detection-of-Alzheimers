{
 "cells": [
  {
   "cell_type": "code",
   "execution_count": 1,
   "id": "426d8f88-fb62-4f24-b033-2bf6daf0f854",
   "metadata": {},
   "outputs": [],
   "source": [
    "import numpy as np"
   ]
  },
  {
   "cell_type": "code",
   "execution_count": 5,
   "id": "14d58fb8-c834-45f5-9ebe-116a6e03ed49",
   "metadata": {},
   "outputs": [],
   "source": [
    "data=np.load(\"C:/Users/prana/Downloads/alzheimer_gan_backup (1)/logs/training_log.npz\")"
   ]
  },
  {
   "cell_type": "code",
   "execution_count": 7,
   "id": "c0714754-b20b-458f-a003-d4f64dc12da2",
   "metadata": {},
   "outputs": [
    {
     "name": "stdout",
     "output_type": "stream",
     "text": [
      "['gen_losses', 'disc_losses', 'best_fid', 'best_is']\n"
     ]
    }
   ],
   "source": [
    "print(data.files)"
   ]
  },
  {
   "cell_type": "code",
   "execution_count": 13,
   "id": "2c0e3727-e0cc-4031-bbd8-4b5db81fc8a4",
   "metadata": {},
   "outputs": [
    {
     "name": "stdout",
     "output_type": "stream",
     "text": [
      "(15.872498605103203-4.62411459572667e-07j)\n"
     ]
    }
   ],
   "source": [
    "print(data['best_fid'])"
   ]
  }
 ],
 "metadata": {
  "kernelspec": {
   "display_name": "Python 3 (ipykernel)",
   "language": "python",
   "name": "python3"
  },
  "language_info": {
   "codemirror_mode": {
    "name": "ipython",
    "version": 3
   },
   "file_extension": ".py",
   "mimetype": "text/x-python",
   "name": "python",
   "nbconvert_exporter": "python",
   "pygments_lexer": "ipython3",
   "version": "3.12.4"
  }
 },
 "nbformat": 4,
 "nbformat_minor": 5
}
